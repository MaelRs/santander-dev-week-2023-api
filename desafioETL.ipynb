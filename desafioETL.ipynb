{
  "nbformat": 4,
  "nbformat_minor": 0,
  "metadata": {
    "colab": {
      "provenance": [],
      "mount_file_id": "1Ig4OcDcxBSoOj2MTSQFeOQjU0TCzNyno",
      "authorship_tag": "ABX9TyN8GAj2vBQxfoecfUzs4Rif",
      "include_colab_link": true
    },
    "kernelspec": {
      "name": "python3",
      "display_name": "Python 3"
    },
    "language_info": {
      "name": "python"
    }
  },
  "cells": [
    {
      "cell_type": "markdown",
      "metadata": {
        "id": "view-in-github",
        "colab_type": "text"
      },
      "source": [
        "<a href=\"https://colab.research.google.com/github/MaelRs/santander-dev-week-2023-api/blob/main/desafioETL.ipynb\" target=\"_parent\"><img src=\"https://colab.research.google.com/assets/colab-badge.svg\" alt=\"Open In Colab\"/></a>"
      ]
    },
    {
      "cell_type": "code",
      "execution_count": 31,
      "metadata": {
        "id": "9D5xVzDk2SOr"
      },
      "outputs": [],
      "source": [
        "import pandas as pd\n",
        "#Repositório da API: https://github.com/digitalinovationone/santander-dev-week-2023-api\n",
        "sdw2023_api_url = 'https://sdw-2023-prd.up.railway.app'\n",
        "\n",
        "df=pd.read_csv('/content/drive/MyDrive/SDW2023.csv')\n",
        "users_ids = df['Name'].tolist()\n",
        "#print(users_ids)\n",
        "#df.head()"
      ]
    },
    {
      "cell_type": "code",
      "source": [
        "df=pd.read_csv('/content/drive/MyDrive/Mensagens.csv')\n",
        "msg_ids = df['Mensagem'].tolist()\n",
        "news=[]\n",
        "for mensage in msg_ids:\n",
        "  news.append(mensage)\n",
        "#print(news)"
      ],
      "metadata": {
        "id": "B0wETFsMlYIp"
      },
      "execution_count": 32,
      "outputs": []
    },
    {
      "cell_type": "code",
      "source": [
        "df=pd.read_csv('/content/drive/MyDrive/Saudacoes.csv')\n",
        "sds_ids = df['saudacao'].tolist()\n",
        "sds=[]\n",
        "for saudacao in sds_ids:\n",
        "  sds.append(saudacao)\n",
        "\n",
        "#print(sds)"
      ],
      "metadata": {
        "id": "3DLzZNKJqvCN"
      },
      "execution_count": 33,
      "outputs": []
    },
    {
      "cell_type": "code",
      "source": [
        "from random import randint\n",
        "from time import sleep\n",
        "\n",
        "for user in users_ids:\n",
        "  msg=randint(0,len(news)-1)\n",
        "  saud=randint(0,len(sds)-1)\n",
        "  print(f'{sds[saud]} {user}, {news[msg]}')\n",
        "  sleep(1.5)\n",
        "  print()\n",
        "\n",
        "\n",
        ""
      ],
      "metadata": {
        "colab": {
          "base_uri": "https://localhost:8080/"
        },
        "id": "R8VEc_ActBS2",
        "outputId": "b848e1f8-6dbf-479d-832c-dda42db1d838"
      },
      "execution_count": 47,
      "outputs": [
        {
          "output_type": "stream",
          "name": "stdout",
          "text": [
            "Tudo bem? Pablo,  Automatizar suas contribuições e reinvestir dividendos pode ser uma maneira eficaz de manter seu portfólio crescente ao longo do tempo.',\n",
            "\n",
            "Como vai? Maria,  Vamos avaliar seu perfil de risco. Isso envolve entender o quanto de risco você está disposto a aceitar. Em uma escala de conservador a agressivo, onde você se encaixa?',\n",
            "\n",
            "Como vai? Patricio,  Lembre-se de que todos os investimentos carregam riscos, e é importante manter um horizonte de investimento de longo prazo para superar flutuações de curto prazo.',\n",
            "\n",
            "Bem vindo! Josue,  Se você tiver alguma dúvida sobre conceitos financeiros, como juros compostos, inflação ou taxas de administração, estou aqui para esclarecer e fornecer informações adicionais.',\n",
            "\n",
            "Alo!! Pamela,  Se você tiver alguma dúvida sobre conceitos financeiros, como juros compostos, inflação ou taxas de administração, estou aqui para esclarecer e fornecer informações adicionais.',\n",
            "\n",
            "Como vai? Karla,  Lembre-se de que é essencial acompanhar regularmente o desempenho de seus investimentos. Faça ajustes conforme necessário para manter sua carteira alinhada com seus objetivos.',\n",
            "\n"
          ]
        }
      ]
    }
  ]
}